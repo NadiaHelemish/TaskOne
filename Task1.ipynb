{
 "cells": [
  {
   "cell_type": "markdown",
   "id": "bd0e8719",
   "metadata": {},
   "source": [
    "# Author : Nadia Helemish"
   ]
  },
  {
   "cell_type": "markdown",
   "id": "613d7e75",
   "metadata": {},
   "source": [
    "GRIP @ The Sparks Foundation"
   ]
  },
  {
   "cell_type": "markdown",
   "id": "33d08db1",
   "metadata": {},
   "source": [
    "Task 1 :Simple Linear Regression in this regression task we will predict the percentage of marks that a student is expected to score based upon the number of hours they studied . This is a simple linear regression task as it involves just two variables (x:independent variable , y:dependent variable )"
   ]
  },
  {
   "cell_type": "markdown",
   "id": "82aa8acc",
   "metadata": {},
   "source": [
    "# Import Required Libraries"
   ]
  },
  {
   "cell_type": "code",
   "execution_count": 56,
   "id": "b46c2a89",
   "metadata": {},
   "outputs": [],
   "source": [
    "# Importing all libraries required in this notebook\n",
    "import pandas as pd\n",
    "import numpy as np  \n",
    "import seaborn as sb\n",
    "import matplotlib.pyplot as plt  \n",
    "%matplotlib inline"
   ]
  },
  {
   "cell_type": "markdown",
   "id": "d0fbb696",
   "metadata": {},
   "source": [
    "# Import the dataset "
   ]
  },
  {
   "cell_type": "code",
   "execution_count": 9,
   "id": "b152dd4d",
   "metadata": {},
   "outputs": [],
   "source": [
    "# Reading data from remote link\n",
    "df = pd.read_csv(\"E:\\SPARKS\\Task 1\\student_scores - student_scores.csv\")"
   ]
  },
  {
   "cell_type": "code",
   "execution_count": 10,
   "id": "8287b5fc",
   "metadata": {},
   "outputs": [
    {
     "data": {
      "text/html": [
       "<div>\n",
       "<style scoped>\n",
       "    .dataframe tbody tr th:only-of-type {\n",
       "        vertical-align: middle;\n",
       "    }\n",
       "\n",
       "    .dataframe tbody tr th {\n",
       "        vertical-align: top;\n",
       "    }\n",
       "\n",
       "    .dataframe thead th {\n",
       "        text-align: right;\n",
       "    }\n",
       "</style>\n",
       "<table border=\"1\" class=\"dataframe\">\n",
       "  <thead>\n",
       "    <tr style=\"text-align: right;\">\n",
       "      <th></th>\n",
       "      <th>Hours</th>\n",
       "      <th>Scores</th>\n",
       "    </tr>\n",
       "  </thead>\n",
       "  <tbody>\n",
       "    <tr>\n",
       "      <th>0</th>\n",
       "      <td>2.5</td>\n",
       "      <td>21</td>\n",
       "    </tr>\n",
       "    <tr>\n",
       "      <th>1</th>\n",
       "      <td>5.1</td>\n",
       "      <td>47</td>\n",
       "    </tr>\n",
       "    <tr>\n",
       "      <th>2</th>\n",
       "      <td>3.2</td>\n",
       "      <td>27</td>\n",
       "    </tr>\n",
       "    <tr>\n",
       "      <th>3</th>\n",
       "      <td>8.5</td>\n",
       "      <td>75</td>\n",
       "    </tr>\n",
       "    <tr>\n",
       "      <th>4</th>\n",
       "      <td>3.5</td>\n",
       "      <td>30</td>\n",
       "    </tr>\n",
       "    <tr>\n",
       "      <th>5</th>\n",
       "      <td>1.5</td>\n",
       "      <td>20</td>\n",
       "    </tr>\n",
       "    <tr>\n",
       "      <th>6</th>\n",
       "      <td>9.2</td>\n",
       "      <td>88</td>\n",
       "    </tr>\n",
       "    <tr>\n",
       "      <th>7</th>\n",
       "      <td>5.5</td>\n",
       "      <td>60</td>\n",
       "    </tr>\n",
       "    <tr>\n",
       "      <th>8</th>\n",
       "      <td>8.3</td>\n",
       "      <td>81</td>\n",
       "    </tr>\n",
       "    <tr>\n",
       "      <th>9</th>\n",
       "      <td>2.7</td>\n",
       "      <td>25</td>\n",
       "    </tr>\n",
       "    <tr>\n",
       "      <th>10</th>\n",
       "      <td>7.7</td>\n",
       "      <td>85</td>\n",
       "    </tr>\n",
       "    <tr>\n",
       "      <th>11</th>\n",
       "      <td>5.9</td>\n",
       "      <td>62</td>\n",
       "    </tr>\n",
       "    <tr>\n",
       "      <th>12</th>\n",
       "      <td>4.5</td>\n",
       "      <td>41</td>\n",
       "    </tr>\n",
       "    <tr>\n",
       "      <th>13</th>\n",
       "      <td>3.3</td>\n",
       "      <td>42</td>\n",
       "    </tr>\n",
       "    <tr>\n",
       "      <th>14</th>\n",
       "      <td>1.1</td>\n",
       "      <td>17</td>\n",
       "    </tr>\n",
       "    <tr>\n",
       "      <th>15</th>\n",
       "      <td>8.9</td>\n",
       "      <td>95</td>\n",
       "    </tr>\n",
       "    <tr>\n",
       "      <th>16</th>\n",
       "      <td>2.5</td>\n",
       "      <td>30</td>\n",
       "    </tr>\n",
       "    <tr>\n",
       "      <th>17</th>\n",
       "      <td>1.9</td>\n",
       "      <td>24</td>\n",
       "    </tr>\n",
       "    <tr>\n",
       "      <th>18</th>\n",
       "      <td>6.1</td>\n",
       "      <td>67</td>\n",
       "    </tr>\n",
       "    <tr>\n",
       "      <th>19</th>\n",
       "      <td>7.4</td>\n",
       "      <td>69</td>\n",
       "    </tr>\n",
       "    <tr>\n",
       "      <th>20</th>\n",
       "      <td>2.7</td>\n",
       "      <td>30</td>\n",
       "    </tr>\n",
       "    <tr>\n",
       "      <th>21</th>\n",
       "      <td>4.8</td>\n",
       "      <td>54</td>\n",
       "    </tr>\n",
       "    <tr>\n",
       "      <th>22</th>\n",
       "      <td>3.8</td>\n",
       "      <td>35</td>\n",
       "    </tr>\n",
       "    <tr>\n",
       "      <th>23</th>\n",
       "      <td>6.9</td>\n",
       "      <td>76</td>\n",
       "    </tr>\n",
       "    <tr>\n",
       "      <th>24</th>\n",
       "      <td>7.8</td>\n",
       "      <td>86</td>\n",
       "    </tr>\n",
       "  </tbody>\n",
       "</table>\n",
       "</div>"
      ],
      "text/plain": [
       "    Hours  Scores\n",
       "0     2.5      21\n",
       "1     5.1      47\n",
       "2     3.2      27\n",
       "3     8.5      75\n",
       "4     3.5      30\n",
       "5     1.5      20\n",
       "6     9.2      88\n",
       "7     5.5      60\n",
       "8     8.3      81\n",
       "9     2.7      25\n",
       "10    7.7      85\n",
       "11    5.9      62\n",
       "12    4.5      41\n",
       "13    3.3      42\n",
       "14    1.1      17\n",
       "15    8.9      95\n",
       "16    2.5      30\n",
       "17    1.9      24\n",
       "18    6.1      67\n",
       "19    7.4      69\n",
       "20    2.7      30\n",
       "21    4.8      54\n",
       "22    3.8      35\n",
       "23    6.9      76\n",
       "24    7.8      86"
      ]
     },
     "execution_count": 10,
     "metadata": {},
     "output_type": "execute_result"
    }
   ],
   "source": [
    "df  #we can also use df.head() to view the top 5 datasets and similarly df.tail () to view the bottom 5 datasets if the dataset is big. "
   ]
  },
  {
   "cell_type": "code",
   "execution_count": 59,
   "id": "a1456637",
   "metadata": {},
   "outputs": [
    {
     "data": {
      "text/html": [
       "<div>\n",
       "<style scoped>\n",
       "    .dataframe tbody tr th:only-of-type {\n",
       "        vertical-align: middle;\n",
       "    }\n",
       "\n",
       "    .dataframe tbody tr th {\n",
       "        vertical-align: top;\n",
       "    }\n",
       "\n",
       "    .dataframe thead th {\n",
       "        text-align: right;\n",
       "    }\n",
       "</style>\n",
       "<table border=\"1\" class=\"dataframe\">\n",
       "  <thead>\n",
       "    <tr style=\"text-align: right;\">\n",
       "      <th></th>\n",
       "      <th>Hours</th>\n",
       "      <th>Scores</th>\n",
       "    </tr>\n",
       "  </thead>\n",
       "  <tbody>\n",
       "    <tr>\n",
       "      <th>0</th>\n",
       "      <td>2.5</td>\n",
       "      <td>21</td>\n",
       "    </tr>\n",
       "    <tr>\n",
       "      <th>1</th>\n",
       "      <td>5.1</td>\n",
       "      <td>47</td>\n",
       "    </tr>\n",
       "    <tr>\n",
       "      <th>2</th>\n",
       "      <td>3.2</td>\n",
       "      <td>27</td>\n",
       "    </tr>\n",
       "    <tr>\n",
       "      <th>3</th>\n",
       "      <td>8.5</td>\n",
       "      <td>75</td>\n",
       "    </tr>\n",
       "    <tr>\n",
       "      <th>4</th>\n",
       "      <td>3.5</td>\n",
       "      <td>30</td>\n",
       "    </tr>\n",
       "  </tbody>\n",
       "</table>\n",
       "</div>"
      ],
      "text/plain": [
       "   Hours  Scores\n",
       "0    2.5      21\n",
       "1    5.1      47\n",
       "2    3.2      27\n",
       "3    8.5      75\n",
       "4    3.5      30"
      ]
     },
     "execution_count": 59,
     "metadata": {},
     "output_type": "execute_result"
    }
   ],
   "source": [
    "df.head() # for viewing first five entries"
   ]
  },
  {
   "cell_type": "code",
   "execution_count": 58,
   "id": "9cc60305",
   "metadata": {},
   "outputs": [
    {
     "data": {
      "text/html": [
       "<div>\n",
       "<style scoped>\n",
       "    .dataframe tbody tr th:only-of-type {\n",
       "        vertical-align: middle;\n",
       "    }\n",
       "\n",
       "    .dataframe tbody tr th {\n",
       "        vertical-align: top;\n",
       "    }\n",
       "\n",
       "    .dataframe thead th {\n",
       "        text-align: right;\n",
       "    }\n",
       "</style>\n",
       "<table border=\"1\" class=\"dataframe\">\n",
       "  <thead>\n",
       "    <tr style=\"text-align: right;\">\n",
       "      <th></th>\n",
       "      <th>Hours</th>\n",
       "      <th>Scores</th>\n",
       "    </tr>\n",
       "  </thead>\n",
       "  <tbody>\n",
       "    <tr>\n",
       "      <th>19</th>\n",
       "      <td>7.4</td>\n",
       "      <td>69</td>\n",
       "    </tr>\n",
       "    <tr>\n",
       "      <th>20</th>\n",
       "      <td>2.7</td>\n",
       "      <td>30</td>\n",
       "    </tr>\n",
       "    <tr>\n",
       "      <th>21</th>\n",
       "      <td>4.8</td>\n",
       "      <td>54</td>\n",
       "    </tr>\n",
       "    <tr>\n",
       "      <th>22</th>\n",
       "      <td>3.8</td>\n",
       "      <td>35</td>\n",
       "    </tr>\n",
       "    <tr>\n",
       "      <th>23</th>\n",
       "      <td>6.9</td>\n",
       "      <td>76</td>\n",
       "    </tr>\n",
       "    <tr>\n",
       "      <th>24</th>\n",
       "      <td>7.8</td>\n",
       "      <td>86</td>\n",
       "    </tr>\n",
       "  </tbody>\n",
       "</table>\n",
       "</div>"
      ],
      "text/plain": [
       "    Hours  Scores\n",
       "19    7.4      69\n",
       "20    2.7      30\n",
       "21    4.8      54\n",
       "22    3.8      35\n",
       "23    6.9      76\n",
       "24    7.8      86"
      ]
     },
     "execution_count": 58,
     "metadata": {},
     "output_type": "execute_result"
    }
   ],
   "source": [
    "df.tail(6) # for viewing last six entries"
   ]
  },
  {
   "cell_type": "markdown",
   "id": "546ea3e6",
   "metadata": {},
   "source": [
    "# Inspecting the Dataset"
   ]
  },
  {
   "cell_type": "code",
   "execution_count": 11,
   "id": "a4076ba1",
   "metadata": {},
   "outputs": [
    {
     "name": "stdout",
     "output_type": "stream",
     "text": [
      "<class 'pandas.core.frame.DataFrame'>\n",
      "RangeIndex: 25 entries, 0 to 24\n",
      "Data columns (total 2 columns):\n",
      " #   Column  Non-Null Count  Dtype  \n",
      "---  ------  --------------  -----  \n",
      " 0   Hours   25 non-null     float64\n",
      " 1   Scores  25 non-null     int64  \n",
      "dtypes: float64(1), int64(1)\n",
      "memory usage: 528.0 bytes\n"
     ]
    }
   ],
   "source": [
    "df.info()"
   ]
  },
  {
   "cell_type": "code",
   "execution_count": 12,
   "id": "49f4737a",
   "metadata": {},
   "outputs": [
    {
     "data": {
      "text/html": [
       "<div>\n",
       "<style scoped>\n",
       "    .dataframe tbody tr th:only-of-type {\n",
       "        vertical-align: middle;\n",
       "    }\n",
       "\n",
       "    .dataframe tbody tr th {\n",
       "        vertical-align: top;\n",
       "    }\n",
       "\n",
       "    .dataframe thead th {\n",
       "        text-align: right;\n",
       "    }\n",
       "</style>\n",
       "<table border=\"1\" class=\"dataframe\">\n",
       "  <thead>\n",
       "    <tr style=\"text-align: right;\">\n",
       "      <th></th>\n",
       "      <th>Hours</th>\n",
       "      <th>Scores</th>\n",
       "    </tr>\n",
       "  </thead>\n",
       "  <tbody>\n",
       "    <tr>\n",
       "      <th>count</th>\n",
       "      <td>25.000000</td>\n",
       "      <td>25.000000</td>\n",
       "    </tr>\n",
       "    <tr>\n",
       "      <th>mean</th>\n",
       "      <td>5.012000</td>\n",
       "      <td>51.480000</td>\n",
       "    </tr>\n",
       "    <tr>\n",
       "      <th>std</th>\n",
       "      <td>2.525094</td>\n",
       "      <td>25.286887</td>\n",
       "    </tr>\n",
       "    <tr>\n",
       "      <th>min</th>\n",
       "      <td>1.100000</td>\n",
       "      <td>17.000000</td>\n",
       "    </tr>\n",
       "    <tr>\n",
       "      <th>25%</th>\n",
       "      <td>2.700000</td>\n",
       "      <td>30.000000</td>\n",
       "    </tr>\n",
       "    <tr>\n",
       "      <th>50%</th>\n",
       "      <td>4.800000</td>\n",
       "      <td>47.000000</td>\n",
       "    </tr>\n",
       "    <tr>\n",
       "      <th>75%</th>\n",
       "      <td>7.400000</td>\n",
       "      <td>75.000000</td>\n",
       "    </tr>\n",
       "    <tr>\n",
       "      <th>max</th>\n",
       "      <td>9.200000</td>\n",
       "      <td>95.000000</td>\n",
       "    </tr>\n",
       "  </tbody>\n",
       "</table>\n",
       "</div>"
      ],
      "text/plain": [
       "           Hours     Scores\n",
       "count  25.000000  25.000000\n",
       "mean    5.012000  51.480000\n",
       "std     2.525094  25.286887\n",
       "min     1.100000  17.000000\n",
       "25%     2.700000  30.000000\n",
       "50%     4.800000  47.000000\n",
       "75%     7.400000  75.000000\n",
       "max     9.200000  95.000000"
      ]
     },
     "execution_count": 12,
     "metadata": {},
     "output_type": "execute_result"
    }
   ],
   "source": [
    "df.describe()  # show the statistical descrition of numerical dataset."
   ]
  },
  {
   "cell_type": "code",
   "execution_count": 14,
   "id": "faecd8a2",
   "metadata": {},
   "outputs": [
    {
     "data": {
      "text/plain": [
       "(25, 2)"
      ]
     },
     "execution_count": 14,
     "metadata": {},
     "output_type": "execute_result"
    }
   ],
   "source": [
    "df.shape"
   ]
  },
  {
   "cell_type": "markdown",
   "id": "5eae93ee",
   "metadata": {},
   "source": [
    "# Spliting the data into \"attributes\" (inputs) and \"labels\"(outputs)"
   ]
  },
  {
   "cell_type": "code",
   "execution_count": 15,
   "id": "c2f603e8",
   "metadata": {},
   "outputs": [],
   "source": [
    "x = df.iloc[:,:-1].values\n",
    "y = df.iloc[:,1].values"
   ]
  },
  {
   "cell_type": "code",
   "execution_count": 16,
   "id": "25604b0f",
   "metadata": {},
   "outputs": [
    {
     "data": {
      "text/plain": [
       "array([[2.5],\n",
       "       [5.1],\n",
       "       [3.2],\n",
       "       [8.5],\n",
       "       [3.5],\n",
       "       [1.5],\n",
       "       [9.2],\n",
       "       [5.5],\n",
       "       [8.3],\n",
       "       [2.7],\n",
       "       [7.7],\n",
       "       [5.9],\n",
       "       [4.5],\n",
       "       [3.3],\n",
       "       [1.1],\n",
       "       [8.9],\n",
       "       [2.5],\n",
       "       [1.9],\n",
       "       [6.1],\n",
       "       [7.4],\n",
       "       [2.7],\n",
       "       [4.8],\n",
       "       [3.8],\n",
       "       [6.9],\n",
       "       [7.8]])"
      ]
     },
     "execution_count": 16,
     "metadata": {},
     "output_type": "execute_result"
    }
   ],
   "source": [
    "x"
   ]
  },
  {
   "cell_type": "code",
   "execution_count": 17,
   "id": "0d8be482",
   "metadata": {},
   "outputs": [
    {
     "data": {
      "text/plain": [
       "array([21, 47, 27, 75, 30, 20, 88, 60, 81, 25, 85, 62, 41, 42, 17, 95, 30,\n",
       "       24, 67, 69, 30, 54, 35, 76, 86], dtype=int64)"
      ]
     },
     "execution_count": 17,
     "metadata": {},
     "output_type": "execute_result"
    }
   ],
   "source": [
    "y"
   ]
  },
  {
   "cell_type": "markdown",
   "id": "3d631692",
   "metadata": {},
   "source": [
    "Let's plot our data points on 2-D graph to eyeball our dataset and see if we can manually find any relationship between the data. We can create the plot with the following script:"
   ]
  },
  {
   "cell_type": "code",
   "execution_count": 18,
   "id": "343b2040",
   "metadata": {},
   "outputs": [
    {
     "data": {
      "image/png": "[encoded data removed]",
      "text/plain": [
       "<Figure size 432x288 with 1 Axes>"
      ]
     },
     "metadata": {
      "needs_background": "light"
     },
     "output_type": "display_data"
    }
   ],
   "source": [
    "# Plotting the distribution of scores\n",
    "plt.scatter(x,y)\n",
    "plt.title('Hours vs Percentage Score')  \n",
    "plt.xlabel('Hours Studied')  \n",
    "plt.ylabel('Percentage Score')  \n",
    "plt.show()"
   ]
  },
  {
   "cell_type": "code",
   "execution_count": 57,
   "id": "6168852e",
   "metadata": {},
   "outputs": [
    {
     "name": "stderr",
     "output_type": "stream",
     "text": [
      "C:\\Users\\AIT\\anaconda3\\lib\\site-packages\\seaborn\\categorical.py:3002: UserWarning: The `split` parameter has been renamed to `dodge`.\n",
      "  warnings.warn(msg, UserWarning)\n"
     ]
    },
    {
     "data": {
      "text/plain": [
       "<AxesSubplot:xlabel='Hours', ylabel='Scores'>"
      ]
     },
     "execution_count": 57,
     "metadata": {},
     "output_type": "execute_result"
    },
    {
     "data": {
      "image/png": "[encoded data removed]",
      "text/plain": [
       "<Figure size 432x288 with 1 Axes>"
      ]
     },
     "metadata": {
      "needs_background": "light"
     },
     "output_type": "display_data"
    }
   ],
   "source": [
    "sb.swarmplot(x=\"Hours\",y=\"Scores\",data=df,palette=\"Set1\",split=True)"
   ]
  },
  {
   "cell_type": "code",
   "execution_count": 63,
   "id": "42baf66d",
   "metadata": {},
   "outputs": [
    {
     "data": {
      "text/plain": [
       "<seaborn.axisgrid.PairGrid at 0x291a6f2c5b0>"
      ]
     },
     "execution_count": 63,
     "metadata": {},
     "output_type": "execute_result"
    },
    {
     "data": {
      "image/png": "[encoded data removed]",
      "text/plain": [
       "<Figure size 360x360 with 6 Axes>"
      ]
     },
     "metadata": {
      "needs_background": "light"
     },
     "output_type": "display_data"
    }
   ],
   "source": [
    "sb.pairplot(df)"
   ]
  },
  {
   "cell_type": "markdown",
   "id": "6ee2ac1b",
   "metadata": {},
   "source": [
    "**From the graph above, we can clearly see that there is a positive linear relation between the number of hours studied and percentage of score.**"
   ]
  },
  {
   "cell_type": "markdown",
   "id": "c1584580",
   "metadata": {},
   "source": [
    "# Checking the relationship between Target(Hours) and feature(Scores)"
   ]
  },
  {
   "cell_type": "code",
   "execution_count": 66,
   "id": "a5166d33",
   "metadata": {},
   "outputs": [
    {
     "data": {
      "text/plain": [
       "Text(0, 0.5, 'Scores')"
      ]
     },
     "execution_count": 66,
     "metadata": {},
     "output_type": "execute_result"
    },
    {
     "data": {
      "image/png": "[encoded data removed]",
      "text/plain": [
       "<Figure size 432x288 with 1 Axes>"
      ]
     },
     "metadata": {
      "needs_background": "light"
     },
     "output_type": "display_data"
    }
   ],
   "source": [
    "sb.regplot(x=df['Hours'],y=df['Scores'],data=df)\n",
    "plt.title('Relationship between Hours to study and Scores obtained')\n",
    "plt.xlabel('Hours')\n",
    "plt.ylabel('Scores')"
   ]
  },
  {
   "cell_type": "markdown",
   "id": "487a17a3",
   "metadata": {},
   "source": [
    "# Simple Linear Regression"
   ]
  },
  {
   "cell_type": "code",
   "execution_count": 79,
   "id": "13791529",
   "metadata": {},
   "outputs": [],
   "source": [
    "# Dividing into dependent(y) and independent(X) variables\n",
    "X = df['Hours']\n",
    "y = df['Scores']"
   ]
  },
  {
   "cell_type": "code",
   "execution_count": 80,
   "id": "93a14ae9",
   "metadata": {},
   "outputs": [],
   "source": [
    "# Splitting into train and test set\n",
    "from sklearn.model_selection import train_test_split\n",
    "X_train,X_test,y_train,y_test=train_test_split(X,y, train_size=0.7, test_size=0.3, random_state=100)"
   ]
  },
  {
   "cell_type": "code",
   "execution_count": 81,
   "id": "6038f77a",
   "metadata": {},
   "outputs": [
    {
     "data": {
      "text/plain": [
       "6     9.2\n",
       "12    4.5\n",
       "4     3.5\n",
       "24    7.8\n",
       "0     2.5\n",
       "Name: Hours, dtype: float64"
      ]
     },
     "execution_count": 81,
     "metadata": {},
     "output_type": "execute_result"
    }
   ],
   "source": [
    "# Checking X_train\n",
    "X_train.head()"
   ]
  },
  {
   "cell_type": "code",
   "execution_count": 82,
   "id": "ab8e2f71",
   "metadata": {},
   "outputs": [
    {
     "data": {
      "text/plain": [
       "6     88\n",
       "12    41\n",
       "4     30\n",
       "24    86\n",
       "0     21\n",
       "Name: Scores, dtype: int64"
      ]
     },
     "execution_count": 82,
     "metadata": {},
     "output_type": "execute_result"
    }
   ],
   "source": [
    "# Checking y_train\n",
    "y_train.head()"
   ]
  },
  {
   "cell_type": "code",
   "execution_count": 83,
   "id": "87424703",
   "metadata": {},
   "outputs": [],
   "source": [
    "# Building a Linear Model\n",
    "import statsmodels.api as sm\n",
    "     "
   ]
  },
  {
   "cell_type": "code",
   "execution_count": 84,
   "id": "c8eef539",
   "metadata": {},
   "outputs": [
    {
     "name": "stderr",
     "output_type": "stream",
     "text": [
      "C:\\Users\\AIT\\anaconda3\\lib\\site-packages\\statsmodels\\tsa\\tsatools.py:142: FutureWarning: In a future version of pandas all arguments of concat except for the argument 'objs' will be keyword-only\n",
      "  x = pd.concat(x[::order], 1)\n"
     ]
    }
   ],
   "source": [
    "# add constant to get intercept c\n",
    "X_train_sm = sm.add_constant(X_train)\n",
    "     "
   ]
  },
  {
   "cell_type": "code",
   "execution_count": 85,
   "id": "24e11942",
   "metadata": {},
   "outputs": [],
   "source": [
    "# Fit the resgression line using 'OLS'\n",
    "lr = sm.OLS(y_train, X_train_sm).fit()"
   ]
  },
  {
   "cell_type": "code",
   "execution_count": 86,
   "id": "5c2057c0",
   "metadata": {},
   "outputs": [
    {
     "data": {
      "text/plain": [
       "const    1.495142\n",
       "Hours    9.871714\n",
       "dtype: float64"
      ]
     },
     "execution_count": 86,
     "metadata": {},
     "output_type": "execute_result"
    }
   ],
   "source": [
    "# Print the parameters, i.e. the intercept and the slope of the regression line fitted\n",
    "lr.params\n",
    "     "
   ]
  },
  {
   "cell_type": "code",
   "execution_count": 87,
   "id": "587b5d45",
   "metadata": {},
   "outputs": [
    {
     "name": "stdout",
     "output_type": "stream",
     "text": [
      "                            OLS Regression Results                            \n",
      "==============================================================================\n",
      "Dep. Variable:                 Scores   R-squared:                       0.957\n",
      "Model:                            OLS   Adj. R-squared:                  0.954\n",
      "Method:                 Least Squares   F-statistic:                     334.4\n",
      "Date:                Mon, 12 Jun 2023   Prob (F-statistic):           1.15e-11\n",
      "Time:                        14:40:36   Log-Likelihood:                -53.270\n",
      "No. Observations:                  17   AIC:                             110.5\n",
      "Df Residuals:                      15   BIC:                             112.2\n",
      "Df Model:                           1                                         \n",
      "Covariance Type:            nonrobust                                         \n",
      "==============================================================================\n",
      "                 coef    std err          t      P>|t|      [0.025      0.975]\n",
      "------------------------------------------------------------------------------\n",
      "const          1.4951      3.169      0.472      0.644      -5.260       8.250\n",
      "Hours          9.8717      0.540     18.288      0.000       8.721      11.022\n",
      "==============================================================================\n",
      "Omnibus:                        4.576   Durbin-Watson:                   1.929\n",
      "Prob(Omnibus):                  0.101   Jarque-Bera (JB):                1.488\n",
      "Skew:                          -0.198   Prob(JB):                        0.475\n",
      "Kurtosis:                       1.606   Cond. No.                         13.3\n",
      "==============================================================================\n",
      "\n",
      "Notes:\n",
      "[1] Standard Errors assume that the covariance matrix of the errors is correctly specified.\n"
     ]
    },
    {
     "name": "stderr",
     "output_type": "stream",
     "text": [
      "C:\\Users\\AIT\\anaconda3\\lib\\site-packages\\scipy\\stats\\stats.py:1541: UserWarning: kurtosistest only valid for n>=20 ... continuing anyway, n=17\n",
      "  warnings.warn(\"kurtosistest only valid for n>=20 ... continuing \"\n"
     ]
    }
   ],
   "source": [
    "# Performing a summary operation lists out all the different parameters of the regression line fitted\n",
    "print(lr.summary())"
   ]
  },
  {
   "cell_type": "code",
   "execution_count": 88,
   "id": "364524dc",
   "metadata": {},
   "outputs": [
    {
     "data": {
      "image/png": "[encoded data removed]",
      "text/plain": [
       "<Figure size 432x288 with 1 Axes>"
      ]
     },
     "metadata": {
      "needs_background": "light"
     },
     "output_type": "display_data"
    }
   ],
   "source": [
    "# Checking the nature of the training data set\n",
    "plt.scatter(X_train, y_train)\n",
    "plt.plot(X_train, 1.5 + 9.87*X_train, 'r')\n",
    "plt.xlabel(\"X_train_Hours\")\n",
    "plt.ylabel(\"y_train_Scores\")\n",
    "plt.show()"
   ]
  },
  {
   "cell_type": "markdown",
   "id": "386c85b2",
   "metadata": {},
   "source": [
    "# Predictions on Test set"
   ]
  },
  {
   "cell_type": "code",
   "execution_count": 89,
   "id": "e4ab9d4e",
   "metadata": {},
   "outputs": [
    {
     "data": {
      "text/plain": [
       "9     2.7\n",
       "22    3.8\n",
       "13    3.3\n",
       "11    5.9\n",
       "5     1.5\n",
       "19    7.4\n",
       "23    6.9\n",
       "21    4.8\n",
       "Name: Hours, dtype: float64"
      ]
     },
     "execution_count": 89,
     "metadata": {},
     "output_type": "execute_result"
    }
   ],
   "source": [
    "# Checking the test set\n",
    "X_test"
   ]
  },
  {
   "cell_type": "code",
   "execution_count": 90,
   "id": "7cb21c2c",
   "metadata": {},
   "outputs": [],
   "source": [
    "# Insert asked value in the test data\n",
    "X_test.loc[8]=9.25"
   ]
  },
  {
   "cell_type": "code",
   "execution_count": 92,
   "id": "ecec5c13",
   "metadata": {},
   "outputs": [
    {
     "data": {
      "text/plain": [
       "9     2.70\n",
       "22    3.80\n",
       "13    3.30\n",
       "11    5.90\n",
       "5     1.50\n",
       "19    7.40\n",
       "23    6.90\n",
       "21    4.80\n",
       "8     9.25\n",
       "Name: Hours, dtype: float64"
      ]
     },
     "execution_count": 92,
     "metadata": {},
     "output_type": "execute_result"
    }
   ],
   "source": [
    "# Checking the test set\n",
    "X_test\n",
    "     "
   ]
  },
  {
   "cell_type": "code",
   "execution_count": 93,
   "id": "d6eec035",
   "metadata": {},
   "outputs": [
    {
     "name": "stderr",
     "output_type": "stream",
     "text": [
      "C:\\Users\\AIT\\anaconda3\\lib\\site-packages\\statsmodels\\tsa\\tsatools.py:142: FutureWarning: In a future version of pandas all arguments of concat except for the argument 'objs' will be keyword-only\n",
      "  x = pd.concat(x[::order], 1)\n"
     ]
    }
   ],
   "source": [
    "# Adding a constant to X_test\n",
    "X_test_sm = sm.add_constant(X_test)"
   ]
  },
  {
   "cell_type": "code",
   "execution_count": 94,
   "id": "82519d95",
   "metadata": {},
   "outputs": [],
   "source": [
    "# Predicting the y values corresponding to X_test_sm\n",
    "y_pred = lr.predict(X_test_sm)"
   ]
  },
  {
   "cell_type": "code",
   "execution_count": 95,
   "id": "3c00e64f",
   "metadata": {},
   "outputs": [
    {
     "data": {
      "text/plain": [
       "9     28.148771\n",
       "22    39.007657\n",
       "13    34.071800\n",
       "11    59.738257\n",
       "5     16.302714\n",
       "19    74.545829\n",
       "23    69.609972\n",
       "21    48.879371\n",
       "8     92.808501\n",
       "dtype: float64"
      ]
     },
     "execution_count": 95,
     "metadata": {},
     "output_type": "execute_result"
    }
   ],
   "source": [
    "\n",
    "# Observing the predicted values\n",
    "y_pred"
   ]
  },
  {
   "cell_type": "markdown",
   "id": "dfdea82e",
   "metadata": {},
   "source": [
    "We have got our answer in the last row of the above dataset that is if a student studies for 9.25 hrs/day he/she scores 92.81%"
   ]
  },
  {
   "cell_type": "markdown",
   "id": "21118c4c",
   "metadata": {},
   "source": [
    "# Model Evaluation"
   ]
  },
  {
   "cell_type": "code",
   "execution_count": 101,
   "id": "13dd5d48",
   "metadata": {},
   "outputs": [],
   "source": [
    "# libraries to find the r-squared score for test set\n",
    "from sklearn.metrics import mean_squared_error\n",
    "from sklearn.metrics import r2_score\n",
    "     "
   ]
  },
  {
   "cell_type": "code",
   "execution_count": 102,
   "id": "0ea8fcec",
   "metadata": {},
   "outputs": [],
   "source": [
    "# Dropping the asked value to make the predicted data set of same shape as that of test data set\n",
    "y_pred.drop(8, inplace=True)"
   ]
  },
  {
   "cell_type": "code",
   "execution_count": 103,
   "id": "138e0026",
   "metadata": {},
   "outputs": [
    {
     "name": "stdout",
     "output_type": "stream",
     "text": [
      "Mean Absolute Error: 4.762517892332273\n"
     ]
    }
   ],
   "source": [
    "# Finding out the value of Model evaluation metric i.e Mean Absolute Error\n",
    "from sklearn import metrics  \n",
    "print('Mean Absolute Error:', \n",
    "      metrics.mean_absolute_error(y_test, y_pred))"
   ]
  },
  {
   "cell_type": "markdown",
   "id": "9f8576bf",
   "metadata": {},
   "source": [
    "We will use the metric R-squared value for Model Evaluation."
   ]
  },
  {
   "cell_type": "code",
   "execution_count": 104,
   "id": "65e1c380",
   "metadata": {},
   "outputs": [
    {
     "data": {
      "text/plain": [
       "0.9309458862687437"
      ]
     },
     "execution_count": 104,
     "metadata": {},
     "output_type": "execute_result"
    }
   ],
   "source": [
    "# Finding out the r-squared score for the test data compared to the predicted data to evaluate the model\n",
    "r_squared = r2_score(y_test, y_pred)\n",
    "r_squared"
   ]
  },
  {
   "cell_type": "markdown",
   "id": "68414120",
   "metadata": {},
   "source": [
    "It seems to be a very good model for prediction because both the training and testing data have good R-squared scores."
   ]
  },
  {
   "cell_type": "code",
   "execution_count": 105,
   "id": "28b1b34e",
   "metadata": {},
   "outputs": [
    {
     "data": {
      "text/plain": [
       "9     2.70\n",
       "22    3.80\n",
       "13    3.30\n",
       "11    5.90\n",
       "5     1.50\n",
       "19    7.40\n",
       "23    6.90\n",
       "21    4.80\n",
       "8     9.25\n",
       "Name: Hours, dtype: float64"
      ]
     },
     "execution_count": 105,
     "metadata": {},
     "output_type": "execute_result"
    }
   ],
   "source": [
    "# Checking X_test data\n",
    "X_test"
   ]
  },
  {
   "cell_type": "code",
   "execution_count": 106,
   "id": "41a56680",
   "metadata": {},
   "outputs": [
    {
     "data": {
      "text/plain": [
       "9     25\n",
       "22    35\n",
       "13    42\n",
       "11    62\n",
       "5     20\n",
       "19    69\n",
       "23    76\n",
       "21    54\n",
       "Name: Scores, dtype: int64"
      ]
     },
     "execution_count": 106,
     "metadata": {},
     "output_type": "execute_result"
    }
   ],
   "source": [
    "\n",
    "# Checking y_test data\n",
    "y_test"
   ]
  },
  {
   "cell_type": "code",
   "execution_count": 107,
   "id": "b64bfcda",
   "metadata": {},
   "outputs": [],
   "source": [
    "# Dropping the asked data to equalise the shape with the y_test data\n",
    "X_test.drop(8,inplace=True)"
   ]
  },
  {
   "cell_type": "code",
   "execution_count": 108,
   "id": "9966839b",
   "metadata": {},
   "outputs": [
    {
     "data": {
      "image/png": "[encoded data removed]",
      "text/plain": [
       "<Figure size 432x288 with 1 Axes>"
      ]
     },
     "metadata": {
      "needs_background": "light"
     },
     "output_type": "display_data"
    }
   ],
   "source": [
    "# Observing the nature of the test data\n",
    "plt.scatter(X_test, y_test)\n",
    "plt.plot(X_test, 1.5 + 9.87*X_test, 'r')\n",
    "plt.xlabel(\"X_test_Hours\") #x label\n",
    "plt.ylabel(\"y_test_Scores\") #y label\n",
    "plt.show()"
   ]
  },
  {
   "cell_type": "markdown",
   "id": "f03b1220",
   "metadata": {},
   "source": [
    "The nature of the test data also seems to be linearly increasing.\n",
    "\n",
    "Student Score Data Analysis Conclusion:\n",
    "\n",
    "The more number of hours a student studies the better he or she scores.\n",
    "\n",
    "Any student who will study for 9.25 hrs/day will get 92.81% marks"
   ]
  },
  {
   "cell_type": "code",
   "execution_count": null,
   "id": "2fb12537",
   "metadata": {},
   "outputs": [],
   "source": []
  }
 ],
 "metadata": {
  "kernelspec": {
   "display_name": "Python 3 (ipykernel)",
   "language": "python",
   "name": "python3"
  },
  "language_info": {
   "codemirror_mode": {
    "name": "ipython",
    "version": 3
   },
   "file_extension": ".py",
   "mimetype": "text/x-python",
   "name": "python",
   "nbconvert_exporter": "python",
   "pygments_lexer": "ipython3",
   "version": "3.9.7"
  }
 },
 "nbformat": 4,
 "nbformat_minor": 5
}
